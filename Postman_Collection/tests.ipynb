{
 "cells": [
  {
   "cell_type": "code",
   "execution_count": 1,
   "id": "6f25ffdd-ed68-4edb-91ba-f72e7975d9b2",
   "metadata": {},
   "outputs": [],
   "source": [
    "import os\n",
    "import sys"
   ]
  },
  {
   "cell_type": "code",
   "execution_count": null,
   "id": "dc1a7ba0-e4d0-41eb-b239-d578b48b1b8e",
   "metadata": {},
   "outputs": [],
   "source": [
    "#setup for collab\n",
    "!git clone https://github.com/tempuku/Data-Source-API-Analyst-Test.git\n",
    "code_base_path = \"/content/Data-Source-API-Analyst-Test\""
   ]
  },
  {
   "cell_type": "code",
   "execution_count": 2,
   "id": "b1916fb0-839a-4cec-abbc-cc8409c09017",
   "metadata": {},
   "outputs": [],
   "source": [
    "#setup for local\n",
    "current_dir = os.getcwd()\n",
    "code_base_path = os.path.dirname(current_dir)"
   ]
  },
  {
   "cell_type": "code",
   "execution_count": 3,
   "id": "22891fe0-2ac9-4896-bba6-96f536026903",
   "metadata": {},
   "outputs": [],
   "source": [
    "sys.path.insert(1, code_base_path)"
   ]
  },
  {
   "cell_type": "code",
   "execution_count": 4,
   "id": "55a9b171-d9a0-4e6e-b4d2-7a97cd9abbb4",
   "metadata": {},
   "outputs": [
    {
     "name": "stdout",
     "output_type": "stream",
     "text": [
      "Requirement already satisfied: ipytest==0.14.2 in c:\\users\\volko\\miniconda3\\lib\\site-packages (from -r ../requirements.txt (line 1)) (0.14.2)\n",
      "Requirement already satisfied: aiohttp==3.11.7 in c:\\users\\volko\\miniconda3\\lib\\site-packages (from -r ../requirements.txt (line 2)) (3.11.7)\n",
      "Requirement already satisfied: ipython in c:\\users\\volko\\miniconda3\\lib\\site-packages (from ipytest==0.14.2->-r ../requirements.txt (line 1)) (8.27.0)\n",
      "Requirement already satisfied: packaging in c:\\users\\volko\\miniconda3\\lib\\site-packages (from ipytest==0.14.2->-r ../requirements.txt (line 1)) (24.1)\n",
      "Requirement already satisfied: pytest>=5.4 in c:\\users\\volko\\miniconda3\\lib\\site-packages (from ipytest==0.14.2->-r ../requirements.txt (line 1)) (8.3.3)\n",
      "Requirement already satisfied: aiohappyeyeballs>=2.3.0 in c:\\users\\volko\\miniconda3\\lib\\site-packages (from aiohttp==3.11.7->-r ../requirements.txt (line 2)) (2.4.3)\n",
      "Requirement already satisfied: aiosignal>=1.1.2 in c:\\users\\volko\\miniconda3\\lib\\site-packages (from aiohttp==3.11.7->-r ../requirements.txt (line 2)) (1.3.1)\n",
      "Requirement already satisfied: attrs>=17.3.0 in c:\\users\\volko\\miniconda3\\lib\\site-packages (from aiohttp==3.11.7->-r ../requirements.txt (line 2)) (24.2.0)\n",
      "Requirement already satisfied: frozenlist>=1.1.1 in c:\\users\\volko\\miniconda3\\lib\\site-packages (from aiohttp==3.11.7->-r ../requirements.txt (line 2)) (1.5.0)\n",
      "Requirement already satisfied: multidict<7.0,>=4.5 in c:\\users\\volko\\miniconda3\\lib\\site-packages (from aiohttp==3.11.7->-r ../requirements.txt (line 2)) (6.1.0)\n",
      "Requirement already satisfied: propcache>=0.2.0 in c:\\users\\volko\\miniconda3\\lib\\site-packages (from aiohttp==3.11.7->-r ../requirements.txt (line 2)) (0.2.0)\n",
      "Requirement already satisfied: yarl<2.0,>=1.17.0 in c:\\users\\volko\\miniconda3\\lib\\site-packages (from aiohttp==3.11.7->-r ../requirements.txt (line 2)) (1.18.0)\n",
      "Requirement already satisfied: iniconfig in c:\\users\\volko\\miniconda3\\lib\\site-packages (from pytest>=5.4->ipytest==0.14.2->-r ../requirements.txt (line 1)) (2.0.0)\n",
      "Requirement already satisfied: pluggy<2,>=1.5 in c:\\users\\volko\\miniconda3\\lib\\site-packages (from pytest>=5.4->ipytest==0.14.2->-r ../requirements.txt (line 1)) (1.5.0)\n",
      "Requirement already satisfied: colorama in c:\\users\\volko\\miniconda3\\lib\\site-packages (from pytest>=5.4->ipytest==0.14.2->-r ../requirements.txt (line 1)) (0.4.6)\n",
      "Requirement already satisfied: idna>=2.0 in c:\\users\\volko\\miniconda3\\lib\\site-packages (from yarl<2.0,>=1.17.0->aiohttp==3.11.7->-r ../requirements.txt (line 2)) (3.7)\n",
      "Requirement already satisfied: decorator in c:\\users\\volko\\miniconda3\\lib\\site-packages (from ipython->ipytest==0.14.2->-r ../requirements.txt (line 1)) (5.1.1)\n",
      "Requirement already satisfied: jedi>=0.16 in c:\\users\\volko\\miniconda3\\lib\\site-packages (from ipython->ipytest==0.14.2->-r ../requirements.txt (line 1)) (0.19.1)\n",
      "Requirement already satisfied: matplotlib-inline in c:\\users\\volko\\miniconda3\\lib\\site-packages (from ipython->ipytest==0.14.2->-r ../requirements.txt (line 1)) (0.1.6)\n",
      "Requirement already satisfied: prompt-toolkit<3.1.0,>=3.0.41 in c:\\users\\volko\\miniconda3\\lib\\site-packages (from ipython->ipytest==0.14.2->-r ../requirements.txt (line 1)) (3.0.43)\n",
      "Requirement already satisfied: pygments>=2.4.0 in c:\\users\\volko\\miniconda3\\lib\\site-packages (from ipython->ipytest==0.14.2->-r ../requirements.txt (line 1)) (2.15.1)\n",
      "Requirement already satisfied: stack-data in c:\\users\\volko\\miniconda3\\lib\\site-packages (from ipython->ipytest==0.14.2->-r ../requirements.txt (line 1)) (0.2.0)\n",
      "Requirement already satisfied: traitlets>=5.13.0 in c:\\users\\volko\\miniconda3\\lib\\site-packages (from ipython->ipytest==0.14.2->-r ../requirements.txt (line 1)) (5.14.3)\n",
      "Requirement already satisfied: parso<0.9.0,>=0.8.3 in c:\\users\\volko\\miniconda3\\lib\\site-packages (from jedi>=0.16->ipython->ipytest==0.14.2->-r ../requirements.txt (line 1)) (0.8.3)\n",
      "Requirement already satisfied: wcwidth in c:\\users\\volko\\miniconda3\\lib\\site-packages (from prompt-toolkit<3.1.0,>=3.0.41->ipython->ipytest==0.14.2->-r ../requirements.txt (line 1)) (0.2.5)\n",
      "Requirement already satisfied: executing in c:\\users\\volko\\miniconda3\\lib\\site-packages (from stack-data->ipython->ipytest==0.14.2->-r ../requirements.txt (line 1)) (0.8.3)\n",
      "Requirement already satisfied: asttokens in c:\\users\\volko\\miniconda3\\lib\\site-packages (from stack-data->ipython->ipytest==0.14.2->-r ../requirements.txt (line 1)) (2.0.5)\n",
      "Requirement already satisfied: pure-eval in c:\\users\\volko\\miniconda3\\lib\\site-packages (from stack-data->ipython->ipytest==0.14.2->-r ../requirements.txt (line 1)) (0.2.2)\n",
      "Requirement already satisfied: six in c:\\users\\volko\\miniconda3\\lib\\site-packages (from asttokens->stack-data->ipython->ipytest==0.14.2->-r ../requirements.txt (line 1)) (1.16.0)\n"
     ]
    }
   ],
   "source": [
    "! pip install -r ../requirements.txt"
   ]
  },
  {
   "cell_type": "code",
   "execution_count": 5,
   "id": "a2994557-a630-4c48-b6ec-5e661d9f0ec2",
   "metadata": {},
   "outputs": [],
   "source": [
    "auth_token = \"token\""
   ]
  },
  {
   "cell_type": "code",
   "execution_count": 8,
   "id": "0a63de09-0c1a-4fca-928d-0d3af33951eb",
   "metadata": {},
   "outputs": [
    {
     "name": "stdout",
     "output_type": "stream",
     "text": [
      "repos: [{'name': 'awesome-machine-learning', 'html_url': 'https://github.com/josephmisiti/awesome-machine-learning'}, {'name': 'MachineLearning', 'html_url': 'https://github.com/wepe/MachineLearning'}, {'name': 'Machine-Learning', 'html_url': 'https://github.com/Jack-Cherish/Machine-Learning'}, {'name': 'MachineLearning_Python', 'html_url': 'https://github.com/lawlite19/MachineLearning_Python'}, {'name': 'machine-learning', 'html_url': 'https://github.com/udacity/machine-learning'}, {'name': 'MachineLearningNotebooks', 'html_url': 'https://github.com/Azure/MachineLearningNotebooks'}, {'name': 'homemade-machine-learning', 'html_url': 'https://github.com/trekhleb/homemade-machine-learning'}, {'name': 'machine_learning_examples', 'html_url': 'https://github.com/lazyprogrammer/machine_learning_examples'}, {'name': 'Machine-Learning-Tutorials', 'html_url': 'https://github.com/ujjwalkarn/Machine-Learning-Tutorials'}]\n",
      "commits: [{'author': {'name': 'The Octocat', 'email': 'octocat@nowhere.com', 'date': '2012-03-06T23:06:50Z'}, 'sha': '7fd1a60b01f91b314f59955a4e4d4e80d8edf11d', 'message': 'Merge pull request #6 from Spaceghost/patch-1\\n\\nNew line at end of file.'}, {'author': {'name': 'Johnneylee Jack Rollins', 'email': 'Johnneylee.rollins@gmail.com', 'date': '2011-09-14T04:42:41Z'}, 'sha': '762941318ee16e59dabbacb1b4049eec22f0d303', 'message': 'New line at end of file. --Signed off by Spaceghost'}, {'author': {'name': 'cameronmcefee', 'email': 'cameron@github.com', 'date': '2011-01-26T19:06:08Z'}, 'sha': '553c2077f0edc3d5dc5d17262f6aa498e69d6f8e', 'message': 'first commit'}]\n",
      "contents: [{'path': 'README', 'download_link': 'https://raw.githubusercontent.com/octocat/Hello-World/master/README'}]\n"
     ]
    }
   ],
   "source": [
    "from Content import *\n",
    "app_name = \"GitHub-API-Client\"\n",
    "api_version = \"2022-11-28\"\n",
    "headers = generate_headers(auth_token, app_name, api_version)\n",
    "\n",
    "async with SessionManager(aiohttpSession()) as session:\n",
    "    tasks = [\n",
    "        search_repositories(\n",
    "            session, headers, \"machine learning\", max_pages=3, per_page=3\n",
    "        ),\n",
    "        get_commits(\n",
    "            session, headers, \"octocat\", \"Hello-World\", max_pages=2, per_page=3\n",
    "        ),\n",
    "        get_contents(session, headers, \"octocat\", \"Hello-World\", \"\"),\n",
    "    ]\n",
    "\n",
    "    repos, commits, contents = await asyncio.gather(*tasks, return_exceptions=True)\n",
    "\n",
    "    print(f\"repos: {repos}\")\n",
    "    print(f\"commits: {commits}\")\n",
    "    print(f\"contents: {contents}\")\n",
    "\n"
   ]
  },
  {
   "cell_type": "code",
   "execution_count": null,
   "id": "2b0b96d2-da35-4ec5-9add-dbcfed71ea81",
   "metadata": {},
   "outputs": [],
   "source": []
  }
 ],
 "metadata": {
  "kernelspec": {
   "display_name": "my-conda-env",
   "language": "python",
   "name": "my-conda-env"
  },
  "language_info": {
   "codemirror_mode": {
    "name": "ipython",
    "version": 3
   },
   "file_extension": ".py",
   "mimetype": "text/x-python",
   "name": "python",
   "nbconvert_exporter": "python",
   "pygments_lexer": "ipython3",
   "version": "3.12.7"
  }
 },
 "nbformat": 4,
 "nbformat_minor": 5
}
